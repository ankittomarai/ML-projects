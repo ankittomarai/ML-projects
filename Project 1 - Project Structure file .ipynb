{
 "cells": [
  {
   "cell_type": "markdown",
   "id": "d74e07d3",
   "metadata": {},
   "source": [
    "## Summary. \n",
    "\n",
    "This file contains  model developmennt for our practice and learning data science.\n",
    "\n",
    "Data Sources - \n",
    "\n",
    "Metric \n",
    "\n",
    "Algo. \n",
    "\n",
    "\n",
    "BU Hypo. \n"
   ]
  },
  {
   "cell_type": "markdown",
   "id": "9f128343",
   "metadata": {},
   "source": [
    "## Model goal / Business Goal\n",
    "\n",
    "\"Build a model to predict the loan approval\""
   ]
  },
  {
   "cell_type": "code",
   "execution_count": null,
   "id": "09d58a8f",
   "metadata": {},
   "outputs": [],
   "source": []
  },
  {
   "cell_type": "markdown",
   "id": "b525d9a4",
   "metadata": {},
   "source": [
    "## 1.  Data load "
   ]
  },
  {
   "cell_type": "code",
   "execution_count": null,
   "id": "45a284dd",
   "metadata": {},
   "outputs": [],
   "source": [
    "import pandas as pd \n"
   ]
  },
  {
   "cell_type": "code",
   "execution_count": null,
   "id": "e102f69e",
   "metadata": {},
   "outputs": [],
   "source": []
  },
  {
   "cell_type": "markdown",
   "id": "de3326ae",
   "metadata": {},
   "source": [
    "## 2. EDA"
   ]
  },
  {
   "cell_type": "code",
   "execution_count": null,
   "id": "81781f38",
   "metadata": {},
   "outputs": [],
   "source": []
  },
  {
   "cell_type": "code",
   "execution_count": null,
   "id": "ebc639b6",
   "metadata": {},
   "outputs": [],
   "source": []
  },
  {
   "cell_type": "code",
   "execution_count": null,
   "id": "67436fec",
   "metadata": {},
   "outputs": [],
   "source": []
  },
  {
   "cell_type": "markdown",
   "id": "05b72d5e",
   "metadata": {},
   "source": [
    "## 3. Model Development "
   ]
  },
  {
   "cell_type": "markdown",
   "id": "d0dcc8aa",
   "metadata": {},
   "source": [
    "## 3.1 Feature engineering "
   ]
  },
  {
   "cell_type": "code",
   "execution_count": null,
   "id": "4be12a7a",
   "metadata": {},
   "outputs": [],
   "source": []
  },
  {
   "cell_type": "code",
   "execution_count": null,
   "id": "36714643",
   "metadata": {},
   "outputs": [],
   "source": []
  },
  {
   "cell_type": "markdown",
   "id": "fbcee5b2",
   "metadata": {},
   "source": [
    "## 3.2 Baseline model "
   ]
  },
  {
   "cell_type": "code",
   "execution_count": null,
   "id": "5c8c58df",
   "metadata": {},
   "outputs": [],
   "source": []
  },
  {
   "cell_type": "code",
   "execution_count": null,
   "id": "11e40d7a",
   "metadata": {},
   "outputs": [],
   "source": []
  },
  {
   "cell_type": "code",
   "execution_count": null,
   "id": "0f1452e9",
   "metadata": {},
   "outputs": [],
   "source": []
  },
  {
   "cell_type": "markdown",
   "id": "3adb4540",
   "metadata": {},
   "source": [
    "## 3.2.1 Model performance "
   ]
  },
  {
   "cell_type": "code",
   "execution_count": null,
   "id": "d76fcc22",
   "metadata": {},
   "outputs": [],
   "source": []
  },
  {
   "cell_type": "code",
   "execution_count": null,
   "id": "d737593d",
   "metadata": {},
   "outputs": [],
   "source": []
  },
  {
   "cell_type": "code",
   "execution_count": null,
   "id": "bb7f7497",
   "metadata": {},
   "outputs": [],
   "source": []
  },
  {
   "cell_type": "markdown",
   "id": "779b4b51",
   "metadata": {},
   "source": [
    "## 3.3 Model tuning "
   ]
  },
  {
   "cell_type": "code",
   "execution_count": null,
   "id": "a6974ec6",
   "metadata": {},
   "outputs": [],
   "source": []
  },
  {
   "cell_type": "code",
   "execution_count": null,
   "id": "6d591cbf",
   "metadata": {},
   "outputs": [],
   "source": []
  },
  {
   "cell_type": "markdown",
   "id": "c751a86c",
   "metadata": {},
   "source": [
    "## 3.3.1 Model performance "
   ]
  },
  {
   "cell_type": "code",
   "execution_count": null,
   "id": "ce2d5722",
   "metadata": {},
   "outputs": [],
   "source": []
  },
  {
   "cell_type": "code",
   "execution_count": null,
   "id": "5cd52dde",
   "metadata": {},
   "outputs": [],
   "source": []
  },
  {
   "cell_type": "code",
   "execution_count": null,
   "id": "ab322835",
   "metadata": {},
   "outputs": [],
   "source": []
  },
  {
   "cell_type": "markdown",
   "id": "49de75f2",
   "metadata": {},
   "source": [
    "## 4. Deployment Strategy "
   ]
  },
  {
   "cell_type": "markdown",
   "id": "8a13fbe8",
   "metadata": {},
   "source": [
    "NA "
   ]
  },
  {
   "cell_type": "code",
   "execution_count": null,
   "id": "e3dd8df4",
   "metadata": {},
   "outputs": [],
   "source": []
  }
 ],
 "metadata": {
  "kernelspec": {
   "display_name": "Python 3 (ipykernel)",
   "language": "python",
   "name": "python3"
  },
  "language_info": {
   "codemirror_mode": {
    "name": "ipython",
    "version": 3
   },
   "file_extension": ".py",
   "mimetype": "text/x-python",
   "name": "python",
   "nbconvert_exporter": "python",
   "pygments_lexer": "ipython3",
   "version": "3.9.12"
  }
 },
 "nbformat": 4,
 "nbformat_minor": 5
}
